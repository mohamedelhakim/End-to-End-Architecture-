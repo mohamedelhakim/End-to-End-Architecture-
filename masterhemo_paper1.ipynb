{
  "cells": [
    {
      "cell_type": "code",
      "execution_count": null,
      "metadata": {
        "id": "2b8e88f2-4644-4604-9b52-66f27c82e820"
      },
      "outputs": [],
      "source": [
        "import pandas as pd\n",
        "import numpy as np\n",
        "from tensorflow.keras import layers, callbacks\n",
        "import tensorflow as tf\n",
        "import keras\n",
        "from tensorflow.keras.models import Sequential,Model\n",
        "from keras.layers import *\n",
        "from keras import backend as K\n",
        "from tensorflow.keras.optimizers import Adam\n",
        "from sklearn import metrics\n",
        "from sklearn.metrics import accuracy_score, cohen_kappa_score, roc_auc_score, matthews_corrcoef, average_precision_score,confusion_matrix\n",
        "from sklearn.metrics import classification_report\n",
        "from sklearn import model_selection, metrics\n",
        "from sklearn.model_selection import train_test_split,StratifiedKFold,KFold"
      ],
      "id": "2b8e88f2-4644-4604-9b52-66f27c82e820"
    },
    {
      "cell_type": "code",
      "execution_count": null,
      "metadata": {
        "colab": {
          "base_uri": "https://localhost:8080/"
        },
        "id": "UtntINiJpDwJ",
        "outputId": "8cc46f0c-5def-4d60-c53d-26d098e34bc0"
      },
      "outputs": [
        {
          "output_type": "stream",
          "name": "stdout",
          "text": [
            "Drive already mounted at /content/drive; to attempt to forcibly remount, call drive.mount(\"/content/drive\", force_remount=True).\n"
          ]
        }
      ],
      "source": [
        "from google.colab import drive\n",
        "drive.mount('/content/drive')"
      ],
      "id": "UtntINiJpDwJ"
    },
    {
      "cell_type": "code",
      "execution_count": null,
      "metadata": {
        "id": "5ddc002d-79c6-415d-9f60-184ed2fc5918"
      },
      "outputs": [],
      "source": [
        "HemoPI1_model = pd.read_csv('./HemoPI1.csv', index_col=0)"
      ],
      "id": "5ddc002d-79c6-415d-9f60-184ed2fc5918"
    },
    {
      "cell_type": "code",
      "execution_count": null,
      "metadata": {
        "id": "832bebde-4b17-4547-a572-84014f3a09ef"
      },
      "outputs": [],
      "source": [],
      "id": "832bebde-4b17-4547-a572-84014f3a09ef"
    },
    {
      "cell_type": "code",
      "execution_count": null,
      "metadata": {
        "id": "8a08d555-dd9b-407b-b7dc-24c8c7f18577"
      },
      "outputs": [],
      "source": [
        "m=0\n",
        "clas=['A','C','D','E','F','G','H','I','K','L','M','N','P','Q','R','S','T','V','W','Y']\n",
        "encode=[]\n",
        "ind=0\n",
        "for i in range(len(HemoPI1_model)):\n",
        "    st=HemoPI1_model['Sequence'][i][2:-1]\n",
        "    row=[]\n",
        "    if len(st)<=30:\n",
        "      m=m+1\n",
        "    for j in range(50):\n",
        "        if j<len(st):\n",
        "            index=clas.index(st[j])\n",
        "            l=np.zeros(20)\n",
        "            l[index]=1\n",
        "        else:\n",
        "            l=np.zeros(20)\n",
        "        row.append(l)\n",
        "    row=np.array(row)\n",
        "    encode.append(row)\n",
        "encode=np.array(encode)"
      ],
      "id": "8a08d555-dd9b-407b-b7dc-24c8c7f18577"
    },
    {
      "cell_type": "code",
      "execution_count": null,
      "metadata": {
        "id": "N5sfv15xQmWW",
        "colab": {
          "base_uri": "https://localhost:8080/"
        },
        "outputId": "8a3e5a6e-307c-4dfa-b6db-3a1629cec9b6"
      },
      "outputs": [
        {
          "output_type": "execute_result",
          "data": {
            "text/plain": [
              "0.9166666666666666"
            ]
          },
          "metadata": {},
          "execution_count": 371
        }
      ],
      "source": [
        "m/len(HemoPI1_model)"
      ],
      "id": "N5sfv15xQmWW"
    },
    {
      "cell_type": "code",
      "execution_count": null,
      "metadata": {
        "id": "0747f812-bd03-4e9a-9a16-cac8db174aaf"
      },
      "outputs": [],
      "source": [
        "x_model1=encode\n",
        "y_model1=HemoPI1_model['y_model_2cl']\n",
        "x_train1, x_test1, y_train1, y_test1= train_test_split(x_model1,y_model1, test_size=0.2, random_state=0)\n",
        "x_train1, x_val1, y_train1, y_val1= train_test_split(x_train1,y_train1, test_size=0.25, random_state=0)"
      ],
      "id": "0747f812-bd03-4e9a-9a16-cac8db174aaf"
    },
    {
      "cell_type": "code",
      "execution_count": null,
      "metadata": {
        "id": "b8629e4e-cc73-472f-a66b-81e7e2d28195"
      },
      "outputs": [],
      "source": [
        "tf.random.set_seed(0)\n",
        "np.random.seed(0)\n"
      ],
      "id": "b8629e4e-cc73-472f-a66b-81e7e2d28195"
    },
    {
      "cell_type": "code",
      "execution_count": null,
      "metadata": {
        "id": "1VsBCih4pfR_"
      },
      "outputs": [],
      "source": [
        "ls ='/content/drive/My Drive/best_model/'"
      ],
      "id": "1VsBCih4pfR_"
    },
    {
      "cell_type": "code",
      "execution_count": null,
      "metadata": {
        "colab": {
          "base_uri": "https://localhost:8080/"
        },
        "id": "f3482c7c-98ef-4e4a-91f6-322ac51fa96e",
        "outputId": "03a1c035-10ab-48bf-8d5d-910b2a9e8c7a"
      },
      "outputs": [
        {
          "output_type": "stream",
          "name": "stderr",
          "text": [
            "/usr/local/lib/python3.10/dist-packages/keras/src/engine/training.py:3000: UserWarning: You are saving your model as an HDF5 file via `model.save()`. This file format is considered legacy. We recommend using instead the native Keras format, e.g. `model.save('my_model.keras')`.\n",
            "  saving_api.save_model(\n"
          ]
        }
      ],
      "source": [
        "\n",
        "scores =[]\n",
        "i=1\n",
        "callback = [tf.keras.callbacks.EarlyStopping(monitor='val_loss', patience=10),tf.keras.callbacks.ModelCheckpoint(filepath=ls+'best_model1.h5', monitor='val_accuracy', save_best_only=True,mode='auto')]\n",
        "\n",
        "model1 = Sequential()\n",
        "model1.add(Conv2D(32, kernel_size=(11, 11),activation='relu',padding='same',input_shape=(50,20,1)))\n",
        "model1.add(Conv2D(32, kernel_size=(11, 11),activation='relu',padding='same'))\n",
        "model1.add(Conv2D(64, kernel_size=(7,7),activation='relu',padding='same'))\n",
        "model1.add(Conv2D(64, kernel_size=(5,5),activation='relu',padding='same'))\n",
        "model1.add(Conv2D(128, kernel_size=(3,3),activation='relu',padding='same'))\n",
        "model1.add(Conv2D(128, kernel_size=(3,3),activation='relu',padding='same'))\n",
        "model1.add(Flatten())\n",
        "model1.add(tf.keras.layers.Dense(64, activation=tf.nn.relu,kernel_regularizer=tf.keras.regularizers.l2(l2=0.0001)))\n",
        "model1.add(tf.keras.layers.Dense(1, activation=tf.nn.sigmoid,kernel_regularizer=tf.keras.regularizers.l2(l2=0.1)))\n",
        "optimizer = Adam(learning_rate=0.0001)\n",
        "model1.compile(optimizer=optimizer, loss='binary_crossentropy', metrics=['accuracy'])\n",
        "history = model1.fit(x_train1,y_train1,epochs = 100,batch_size=32,validation_data=(x_val1,y_val1),callbacks=[callback],verbose=0,shuffle= True)\n"
      ],
      "id": "f3482c7c-98ef-4e4a-91f6-322ac51fa96e"
    },
    {
      "cell_type": "code",
      "execution_count": null,
      "metadata": {
        "id": "0dc7883d-7fed-4760-aafe-342ae4662b6f",
        "colab": {
          "base_uri": "https://localhost:8080/"
        },
        "outputId": "05accfe4-1093-4aae-d00f-c97cab983ba4"
      },
      "outputs": [
        {
          "output_type": "stream",
          "name": "stdout",
          "text": [
            "35/35 [==============================] - 0s 6ms/step\n",
            "HemoPI-1 model datasets\n",
            "deep learning: Accuracy 97.37%\n",
            "deep learning: Precision-Recall 95.54%\n",
            "deep learning: Matthews Coefficient 94.78%\n",
            "deep learning: Cohen Kappa Score 94.75%\n",
            "deep learning: ROC AUC Score 97.37%\n",
            "              precision    recall  f1-score   support\n",
            "\n",
            "       low 0       0.99      0.96      0.97       552\n",
            "      high 1       0.96      0.99      0.97       552\n",
            "\n",
            "    accuracy                           0.97      1104\n",
            "   macro avg       0.97      0.97      0.97      1104\n",
            "weighted avg       0.97      0.97      0.97      1104\n",
            "\n",
            "HemoPI-1 validation datasets\n",
            "7/7 [==============================] - 0s 6ms/step\n",
            "deep learning: Accuracy 96.38%\n",
            "deep learning: Precision 95.19%\n",
            "deep learning: Recall 97.06%\n",
            "deep learning: Matthews Coefficient 92.74%\n",
            "deep learning: Cohen Kappa Score 92.73%\n",
            "deep learning: ROC AUC Score 96.43%\n",
            "              precision    recall  f1-score   support\n",
            "\n",
            "       low 0       0.97      0.96      0.97       119\n",
            "      high 1       0.95      0.97      0.96       102\n",
            "\n",
            "    accuracy                           0.96       221\n",
            "   macro avg       0.96      0.96      0.96       221\n",
            "weighted avg       0.96      0.96      0.96       221\n",
            "\n"
          ]
        }
      ],
      "source": [
        "model1 = tf.keras.models.load_model(ls+'HemoPI1.h5')\n",
        "y_pred=model1.predict(x_model1)\n",
        "y_pred[y_pred>0.5]=1\n",
        "y_pred[y_pred<0.5]=0\n",
        "\n",
        "cv_preds = y_pred\n",
        "print('HemoPI-1 model datasets')\n",
        "name='deep learning'\n",
        "print(\"%s: Accuracy %0.2f%%\" % (name, 100*metrics.accuracy_score(y_model1, cv_preds)))\n",
        "print(\"%s: Precision-Recall %0.2f%%\" % (name, 100*metrics.average_precision_score(y_model1, cv_preds)))\n",
        "print(\"%s: Matthews Coefficient %0.2f%%\" % (name, 100*matthews_corrcoef(y_model1, cv_preds)))\n",
        "print(\"%s: Cohen Kappa Score %0.2f%%\" % (name, 100*metrics.cohen_kappa_score(y_model1, cv_preds)))\n",
        "print(\"%s: ROC AUC Score %0.2f%%\" % (name, 100*metrics.roc_auc_score(y_model1, cv_preds)))\n",
        "target_names = ['low 0', 'high 1']\n",
        "print(classification_report(y_model1, cv_preds, target_names=target_names))\n",
        "\n",
        "# Predictions Validation Set\n",
        "print('HemoPI-1 validation datasets')\n",
        "y_pred2=model1.predict(x_test1)\n",
        "y_pred2[y_pred2>0.5]=1\n",
        "y_pred2[y_pred2<0.5]=0\n",
        "cv_preds2 = y_pred2\n",
        "print(\"%s: Accuracy %0.2f%%\" % (name, 100*metrics.accuracy_score(y_test1, cv_preds2)))\n",
        "print(\"%s: Precision %0.2f%%\" % (name, 100*metrics.precision_score(y_test1, cv_preds2)))\n",
        "print(\"%s: Recall %0.2f%%\" % (name, 100*metrics.recall_score(y_test1, cv_preds2)))\n",
        "print(\"%s: Matthews Coefficient %0.2f%%\" % (name, 100*matthews_corrcoef(y_test1, cv_preds2)))\n",
        "print(\"%s: Cohen Kappa Score %0.2f%%\" % (name, 100*metrics.cohen_kappa_score(y_test1, cv_preds2)))\n",
        "print(\"%s: ROC AUC Score %0.2f%%\" % (name, 100*metrics.roc_auc_score(y_test1, cv_preds2)))\n",
        "target_names = ['low 0', 'high 1']\n",
        "print(classification_report(y_test1, cv_preds2, target_names=target_names))"
      ],
      "id": "0dc7883d-7fed-4760-aafe-342ae4662b6f"
    },
    {
      "cell_type": "code",
      "execution_count": null,
      "metadata": {
        "id": "1dd13c17-5fe9-4671-a078-494822eb4c60"
      },
      "outputs": [],
      "source": [
        "HemoPI2_model = pd.read_csv('./HemoPI2.csv', index_col=0)"
      ],
      "id": "1dd13c17-5fe9-4671-a078-494822eb4c60"
    },
    {
      "cell_type": "code",
      "execution_count": null,
      "metadata": {
        "id": "a6fd0c8a-b26d-44fc-aa1b-4cbebfbb0200"
      },
      "outputs": [],
      "source": [
        "clas=['A','C','D','E','F','G','H','I','K','L','M','N','P','Q','R','S','T','V','W','Y']\n",
        "\n",
        "encode2=[]\n",
        "ind=0\n",
        "m=0\n",
        "for i in range(len(HemoPI2_model)):\n",
        "    st=HemoPI2_model['Sequence'][i][2:-1]\n",
        "    row=[]\n",
        "    for j in range(50):\n",
        "        if j<len(st):\n",
        "            index=clas.index(st[j])\n",
        "            l=np.zeros(20)\n",
        "            l[index]=1\n",
        "        else:\n",
        "            l=np.zeros(20)\n",
        "        row.append(l)\n",
        "    row=np.array(row)\n",
        "    encode2.append(row)\n",
        "encode2=np.array(encode2)\n"
      ],
      "id": "a6fd0c8a-b26d-44fc-aa1b-4cbebfbb0200"
    },
    {
      "cell_type": "code",
      "execution_count": null,
      "metadata": {
        "id": "f720a90c-7781-4e41-a36f-18ad75b79748"
      },
      "outputs": [],
      "source": [
        "x_model2=encode2\n",
        "y_model2=HemoPI2_model['y_model_2cl']\n",
        "x_train2, x_test2, y_train2, y_test2= train_test_split(x_model2,y_model2, test_size=0.2, random_state=0)\n",
        "x_train2, x_val2, y_train2, y_val2 = train_test_split(x_train2,y_train2, test_size=0.25, random_state=0)\n"
      ],
      "id": "f720a90c-7781-4e41-a36f-18ad75b79748"
    },
    {
      "cell_type": "code",
      "execution_count": null,
      "metadata": {
        "id": "4b42e77f-b51f-426d-9976-4227b2e9c3b7",
        "colab": {
          "base_uri": "https://localhost:8080/"
        },
        "outputId": "6bfe9a1e-64ea-4ed2-b00c-97e7796e9b0c"
      },
      "outputs": [
        {
          "output_type": "stream",
          "name": "stderr",
          "text": [
            "/usr/local/lib/python3.10/dist-packages/keras/src/engine/training.py:3000: UserWarning: You are saving your model as an HDF5 file via `model.save()`. This file format is considered legacy. We recommend using instead the native Keras format, e.g. `model.save('my_model.keras')`.\n",
            "  saving_api.save_model(\n"
          ]
        }
      ],
      "source": [
        "scores =[]\n",
        "i=1\n",
        "callback = [tf.keras.callbacks.EarlyStopping(monitor='val_loss', patience=10),tf.keras.callbacks.ModelCheckpoint(filepath=ls+'best_model2.h5', monitor='val_accuracy',save_best_only=True,mode='auto')]\n",
        "\n",
        "model2 = Sequential()\n",
        "model2.add(Conv2D(32, kernel_size=(11, 11),activation='relu',padding='same',input_shape=(50,20,1)))\n",
        "model2.add(Conv2D(32, kernel_size=(11, 11),activation='relu',padding='same'))\n",
        "model2.add(Conv2D(64, kernel_size=(7,7),activation='relu',padding='same'))\n",
        "model2.add(Conv2D(64, kernel_size=(5,5),activation='relu',padding='same'))\n",
        "model2.add(Conv2D(128, kernel_size=(3,3),activation='relu',padding='same'))\n",
        "model2.add(Conv2D(128, kernel_size=(3,3),activation='relu',padding='same'))\n",
        "model2.add(Flatten())\n",
        "model2.add(tf.keras.layers.Dense(64, activation=tf.nn.relu,kernel_regularizer=tf.keras.regularizers.l2(l2=0.0001)))\n",
        "model2.add(tf.keras.layers.Dense(1, activation=tf.nn.sigmoid,kernel_regularizer=tf.keras.regularizers.l2(l2=0.01)))\n",
        "optimizer = Adam(learning_rate=0.0001)\n",
        "model2.compile(optimizer=optimizer, loss='binary_crossentropy', metrics=['accuracy'])\n",
        "history = model2.fit(x_train2,y_train2,epochs = 100,batch_size=32,validation_data=(x_val2,y_val2),callbacks=[callback],verbose=0,shuffle= True)\n"
      ],
      "id": "4b42e77f-b51f-426d-9976-4227b2e9c3b7"
    },
    {
      "cell_type": "code",
      "execution_count": null,
      "metadata": {
        "id": "cd2b541b-bcb4-4def-ab70-cb6b3c1f5573",
        "colab": {
          "base_uri": "https://localhost:8080/"
        },
        "outputId": "dccfc824-5099-4379-8da7-c6a86c23fc81"
      },
      "outputs": [
        {
          "output_type": "stream",
          "name": "stdout",
          "text": [
            "32/32 [==============================] - 0s 7ms/step\n",
            "HemoPI-2 model datasets\n",
            "deep learning: Accuracy 87.38%\n",
            "deep learning: Precision-Recall 83.04%\n",
            "deep learning: Matthews Coefficient 74.70%\n",
            "deep learning: Cohen Kappa Score 74.33%\n",
            "deep learning: ROC AUC Score 86.84%\n",
            "Sensitivity: 0.9293478260869565\n",
            "Specificity: 0.8073593073593074\n",
            "              precision    recall  f1-score   support\n",
            "\n",
            "       low 0       0.91      0.81      0.85       462\n",
            "      high 1       0.85      0.93      0.89       552\n",
            "\n",
            "    accuracy                           0.87      1014\n",
            "   macro avg       0.88      0.87      0.87      1014\n",
            "weighted avg       0.88      0.87      0.87      1014\n",
            "\n",
            "HemoPI-2 validation datasets\n",
            "7/7 [==============================] - 0s 6ms/step\n",
            "deep learning: Accuracy 77.83%\n",
            "deep learning: Precision-Recall 74.42%\n",
            "deep learning: Matthews Coefficient 56.14%\n",
            "deep learning: Cohen Kappa Score 54.88%\n",
            "deep learning: ROC AUC Score 77.08%\n",
            "Sensitivity: 0.8888888888888888\n",
            "Specificity: 0.6526315789473685\n",
            "              precision    recall  f1-score   support\n",
            "\n",
            "       low 0       0.84      0.65      0.73        95\n",
            "      high 1       0.74      0.89      0.81       108\n",
            "\n",
            "    accuracy                           0.78       203\n",
            "   macro avg       0.79      0.77      0.77       203\n",
            "weighted avg       0.79      0.78      0.77       203\n",
            "\n"
          ]
        }
      ],
      "source": [
        "model2 = tf.keras.models.load_model(ls+'HemoPI2.h5')\n",
        "y_pred=model2.predict(x_model2)\n",
        "y_pred[y_pred>0.5]=1\n",
        "y_pred[y_pred<0.5]=0\n",
        "\n",
        "cv_preds = y_pred\n",
        "print('HemoPI-2 model datasets')\n",
        "name='deep learning'\n",
        "print(\"%s: Accuracy %0.2f%%\" % (name, 100*metrics.accuracy_score(y_model2, cv_preds)))\n",
        "print(\"%s: Precision-Recall %0.2f%%\" % (name, 100*metrics.average_precision_score(y_model2, cv_preds)))\n",
        "print(\"%s: Matthews Coefficient %0.2f%%\" % (name, 100*matthews_corrcoef(y_model2, cv_preds)))\n",
        "print(\"%s: Cohen Kappa Score %0.2f%%\" % (name, 100*metrics.cohen_kappa_score(y_model2, cv_preds)))\n",
        "print(\"%s: ROC AUC Score %0.2f%%\" % (name, 100*metrics.roc_auc_score(y_model2, cv_preds)))\n",
        "tn, fp, fn, tp = confusion_matrix(y_model2, cv_preds).ravel()\n",
        "\n",
        "# calculate sensitivity\n",
        "sensitivity = tp / (tp + fn)\n",
        "print(\"Sensitivity:\", sensitivity)\n",
        "specificity = tn / (tn + fp)\n",
        "print(\"Specificity:\", specificity)\n",
        "\n",
        "target_names = ['low 0', 'high 1']\n",
        "print(classification_report(y_model2, cv_preds, target_names=target_names))\n",
        "\n",
        "# Predictions Validation Set\n",
        "print('HemoPI-2 validation datasets')\n",
        "y_pred2=model2.predict(x_test2)\n",
        "y_pred2[y_pred2>0.5]=1\n",
        "y_pred2[y_pred2<0.5]=0\n",
        "cv_preds2 = y_pred2\n",
        "print(\"%s: Accuracy %0.2f%%\" % (name, 100*metrics.accuracy_score(y_test2, cv_preds2)))\n",
        "print(\"%s: Precision-Recall %0.2f%%\" % (name, 100*metrics.precision_score(y_test2, cv_preds2)))\n",
        "print(\"%s: Matthews Coefficient %0.2f%%\" % (name, 100*matthews_corrcoef(y_test2, cv_preds2)))\n",
        "print(\"%s: Cohen Kappa Score %0.2f%%\" % (name, 100*metrics.cohen_kappa_score(y_test2, cv_preds2)))\n",
        "print(\"%s: ROC AUC Score %0.2f%%\" % (name, 100*metrics.roc_auc_score(y_test2, cv_preds2)))\n",
        "tn, fp, fn, tp = confusion_matrix(y_test2, cv_preds2).ravel()\n",
        "\n",
        "# calculate sensitivity\n",
        "sensitivity = tp / (tp + fn)\n",
        "print(\"Sensitivity:\", sensitivity)\n",
        "specificity = tn / (tn + fp)\n",
        "print(\"Specificity:\", specificity)\n",
        "\n",
        "target_names = ['low 0', 'high 1']\n",
        "print(classification_report(y_test2, cv_preds2, target_names=target_names))"
      ],
      "id": "cd2b541b-bcb4-4def-ab70-cb6b3c1f5573"
    },
    {
      "cell_type": "code",
      "execution_count": null,
      "metadata": {
        "id": "40a27101-b17d-4cc4-9a2a-dbe9918963db"
      },
      "outputs": [],
      "source": [
        "HemoPI3_model = pd.read_csv('./HemoPI3.csv', index_col=0)"
      ],
      "id": "40a27101-b17d-4cc4-9a2a-dbe9918963db"
    },
    {
      "cell_type": "code",
      "execution_count": null,
      "metadata": {
        "id": "635ca63c-a37f-4076-8fb9-84be2c07eb80"
      },
      "outputs": [],
      "source": [
        "clas=['A','C','D','E','F','G','H','I','K','L','M','N','P','Q','R','S','T','V','W','Y']\n",
        "encode3=[]\n",
        "for i in range(len(HemoPI3_model)):\n",
        "    st=HemoPI3_model['Sequence'][i][2:-1]\n",
        "    row=[]\n",
        "    for j in range(50):\n",
        "        if j<len(st):\n",
        "            index=clas.index(st[j])\n",
        "            l=np.zeros(20)\n",
        "            l[index]=1\n",
        "        else:\n",
        "            l=np.zeros(20)\n",
        "        row.append(l)\n",
        "    row=np.array(row)\n",
        "    encode3.append(row)\n",
        "encode3=np.array(encode3)\n"
      ],
      "id": "635ca63c-a37f-4076-8fb9-84be2c07eb80"
    },
    {
      "cell_type": "code",
      "execution_count": null,
      "metadata": {
        "id": "9c3290c2-ee7a-41af-aea2-4509bbfdc0ba"
      },
      "outputs": [],
      "source": [
        "x_model3=encode3\n",
        "y_model3=HemoPI3_model['y_model_2cl']\n",
        "x_train3, x_test3, y_train3, y_test3 = train_test_split(x_model3,y_model3, test_size=0.2, random_state=0)\n",
        "x_train3, x_val3, y_train3, y_val3 = train_test_split(x_train3,y_train3, test_size=0.25, random_state=0)\n"
      ],
      "id": "9c3290c2-ee7a-41af-aea2-4509bbfdc0ba"
    },
    {
      "cell_type": "code",
      "execution_count": null,
      "metadata": {
        "id": "c72be1f3-ef56-48c3-9fd2-a4e21e164ef0",
        "colab": {
          "base_uri": "https://localhost:8080/"
        },
        "outputId": "c4e15c93-24fa-4377-d36e-1081fbf74c56"
      },
      "outputs": [
        {
          "output_type": "stream",
          "name": "stderr",
          "text": [
            "/usr/local/lib/python3.10/dist-packages/keras/src/engine/training.py:3000: UserWarning: You are saving your model as an HDF5 file via `model.save()`. This file format is considered legacy. We recommend using instead the native Keras format, e.g. `model.save('my_model.keras')`.\n",
            "  saving_api.save_model(\n"
          ]
        }
      ],
      "source": [
        "i=1\n",
        "callback = [tf.keras.callbacks.EarlyStopping(monitor='val_loss', patience=10),tf.keras.callbacks.ModelCheckpoint(filepath=ls+'best_model3.h5', monitor='val_accuracy', save_best_only=True,mode='auto')]\n",
        "\n",
        "model3 = Sequential()\n",
        "model3.add(Conv2D(32, kernel_size=(11, 11),activation='relu',padding='same',input_shape=(50,20,1)))\n",
        "model3.add(Conv2D(32, kernel_size=(11, 11),activation='relu',padding='same'))\n",
        "model3.add(Conv2D(64, kernel_size=(7,7),activation='relu',padding='same'))\n",
        "model3.add(Conv2D(64, kernel_size=(5,5),activation='relu',padding='same'))\n",
        "model3.add(Conv2D(128, kernel_size=(3,3),activation='relu',padding='same'))\n",
        "model3.add(Conv2D(128, kernel_size=(3,3),activation='relu',padding='same'))\n",
        "model3.add(Flatten())\n",
        "model3.add(tf.keras.layers.Dense(64, activation=tf.nn.relu,kernel_regularizer=tf.keras.regularizers.l2(l2=0.001)))\n",
        "model3.add(tf.keras.layers.Dense(1, activation=tf.nn.sigmoid,kernel_regularizer=tf.keras.regularizers.l2(l2=0.1)))\n",
        "optimizer = Adam(learning_rate=0.0001)\n",
        "model3.compile(optimizer=optimizer, loss='binary_crossentropy', metrics=['accuracy'])\n",
        "history = model3.fit(x_train3,y_train3,epochs = 100,batch_size=32,validation_data=(x_val3,y_val3),callbacks=[callback],verbose=0,shuffle=True)\n"
      ],
      "id": "c72be1f3-ef56-48c3-9fd2-a4e21e164ef0"
    },
    {
      "cell_type": "code",
      "execution_count": null,
      "metadata": {
        "id": "589b1886-5f6e-485e-9ae8-35508ec28d92",
        "colab": {
          "base_uri": "https://localhost:8080/"
        },
        "outputId": "9a0ffb93-594e-4c4f-d2e9-ffab8b359ae3"
      },
      "outputs": [
        {
          "output_type": "stream",
          "name": "stdout",
          "text": [
            "51/51 [==============================] - 0s 5ms/step\n",
            "HemoPI-3 model datasets\n",
            "deep learning: Accuracy 88.97%\n",
            "deep learning: Precision-Recall 86.09%\n",
            "deep learning: Matthews Coefficient 77.74%\n",
            "deep learning: Cohen Kappa Score 77.73%\n",
            "deep learning: ROC AUC Score 88.82%\n",
            "Sensitivity: 0.9050847457627119\n",
            "Specificity: 0.8712737127371274\n",
            "              precision    recall  f1-score   support\n",
            "\n",
            "       low 0       0.88      0.87      0.88       738\n",
            "      high 1       0.89      0.91      0.90       885\n",
            "\n",
            "    accuracy                           0.89      1623\n",
            "   macro avg       0.89      0.89      0.89      1623\n",
            "weighted avg       0.89      0.89      0.89      1623\n",
            "\n",
            "HemoPI-3 validation datasets\n",
            "11/11 [==============================] - 0s 5ms/step\n",
            "deep learning: Accuracy 80.31%\n",
            "deep learning: Precision-Recall 75.37%\n",
            "deep learning: Matthews Coefficient 60.51%\n",
            "deep learning: Cohen Kappa Score 60.46%\n",
            "deep learning: ROC AUC Score 80.18%\n",
            "Sensitivity: 0.8294117647058824\n",
            "Specificity: 0.7741935483870968\n",
            "              precision    recall  f1-score   support\n",
            "\n",
            "       low 0       0.81      0.77      0.79       155\n",
            "      high 1       0.80      0.83      0.82       170\n",
            "\n",
            "    accuracy                           0.80       325\n",
            "   macro avg       0.80      0.80      0.80       325\n",
            "weighted avg       0.80      0.80      0.80       325\n",
            "\n"
          ]
        }
      ],
      "source": [
        "model3 = tf.keras.models.load_model(ls+'HemoPI3.h5')\n",
        "y_pred=model3.predict(x_model3)\n",
        "y_pred[y_pred>0.5]=1\n",
        "y_pred[y_pred<0.5]=0\n",
        "\n",
        "cv_preds = y_pred\n",
        "print('HemoPI-3 model datasets')\n",
        "name='deep learning'\n",
        "print(\"%s: Accuracy %0.2f%%\" % (name, 100*metrics.accuracy_score(y_model3, cv_preds)))\n",
        "print(\"%s: Precision-Recall %0.2f%%\" % (name, 100*metrics.average_precision_score(y_model3, cv_preds)))\n",
        "print(\"%s: Matthews Coefficient %0.2f%%\" % (name, 100*matthews_corrcoef(y_model3, cv_preds)))\n",
        "print(\"%s: Cohen Kappa Score %0.2f%%\" % (name, 100*metrics.cohen_kappa_score(y_model3, cv_preds)))\n",
        "print(\"%s: ROC AUC Score %0.2f%%\" % (name, 100*metrics.roc_auc_score(y_model3, cv_preds)))\n",
        "tn, fp, fn, tp = confusion_matrix(y_model3, cv_preds).ravel()\n",
        "\n",
        "# calculate sensitivity\n",
        "sensitivity = tp / (tp + fn)\n",
        "print(\"Sensitivity:\", sensitivity)\n",
        "specificity = tn / (tn + fp)\n",
        "print(\"Specificity:\", specificity)\n",
        "\n",
        "target_names = ['low 0', 'high 1']\n",
        "print(classification_report(y_model3, cv_preds, target_names=target_names))\n",
        "\n",
        "# Predictions Validation Set\n",
        "print('HemoPI-3 validation datasets')\n",
        "y_pred2=model3.predict(x_test3)\n",
        "y_pred2[y_pred2>0.5]=1\n",
        "y_pred2[y_pred2<0.5]=0\n",
        "cv_preds2 = y_pred2\n",
        "print(\"%s: Accuracy %0.2f%%\" % (name, 100*metrics.accuracy_score(y_test3, cv_preds2)))\n",
        "print(\"%s: Precision-Recall %0.2f%%\" % (name, 100*metrics.average_precision_score(y_test3, cv_preds2)))\n",
        "print(\"%s: Matthews Coefficient %0.2f%%\" % (name, 100*matthews_corrcoef(y_test3, cv_preds2)))\n",
        "print(\"%s: Cohen Kappa Score %0.2f%%\" % (name, 100*metrics.cohen_kappa_score(y_test3, cv_preds2)))\n",
        "print(\"%s: ROC AUC Score %0.2f%%\" % (name, 100*metrics.roc_auc_score(y_test3, cv_preds2)))\n",
        "tn, fp, fn, tp = confusion_matrix(y_test3, cv_preds2).ravel()\n",
        "\n",
        "# calculate sensitivity\n",
        "sensitivity = tp / (tp + fn)\n",
        "print(\"Sensitivity:\", sensitivity)\n",
        "specificity = tn / (tn + fp)\n",
        "print(\"Specificity:\", specificity)\n",
        "\n",
        "target_names = ['low 0', 'high 1']\n",
        "print(classification_report(y_test3, cv_preds2, target_names=target_names))"
      ],
      "id": "589b1886-5f6e-485e-9ae8-35508ec28d92"
    },
    {
      "cell_type": "code",
      "source": [],
      "metadata": {
        "id": "VXhbGVzd5x-F"
      },
      "id": "VXhbGVzd5x-F",
      "execution_count": null,
      "outputs": []
    }
  ],
  "metadata": {
    "accelerator": "GPU",
    "colab": {
      "provenance": []
    },
    "gpuClass": "standard",
    "kernelspec": {
      "display_name": "Python 3 (ipykernel)",
      "language": "python",
      "name": "python3"
    },
    "language_info": {
      "codemirror_mode": {
        "name": "ipython",
        "version": 3
      },
      "file_extension": ".py",
      "mimetype": "text/x-python",
      "name": "python",
      "nbconvert_exporter": "python",
      "pygments_lexer": "ipython3",
      "version": "3.9.7"
    },
    "toc-autonumbering": false,
    "toc-showcode": false,
    "toc-showmarkdowntxt": true,
    "toc-showtags": true
  },
  "nbformat": 4,
  "nbformat_minor": 5
}